{
 "cells": [
  {
   "cell_type": "markdown",
   "id": "97838b2b-da26-463f-b759-c8994f7425ff",
   "metadata": {},
   "source": [
    "## Exercise 1: Support Vector Machines"
   ]
  },
  {
   "cell_type": "code",
   "execution_count": 30,
   "id": "3cce2fdf-5c29-4bbc-8224-271cb881dc3d",
   "metadata": {},
   "outputs": [
    {
     "name": "stdout",
     "output_type": "stream",
     "text": [
      "Kernel: linear, Training Accuracy: 1.0\n",
      "Kernel: poly, Training Accuracy: 1.0\n",
      "Kernel: rbf, Training Accuracy: 1.0\n",
      "['cars' 'faces' 'flowers']\n",
      "Test Accuracy: 1.0\n",
      "Image: ./images/db/test/flower2.jpg, Predicted Label: flowers\n",
      "Image: ./images/db/test/face.jpg, Predicted Label: faces\n",
      "Image: ./images/db/test/car.jpg, Predicted Label: cars\n",
      "Image: ./images/db/test/flower.jpg, Predicted Label: flowers\n"
     ]
    }
   ],
   "source": [
    "import numpy as np\n",
    "import cv2\n",
    "import glob\n",
    "from sklearn import svm\n",
    "from sklearn.preprocessing import LabelEncoder\n",
    "from sklearn.metrics import accuracy_score\n",
    "import os\n",
    "\n",
    "def create_keypoints(w, h):\n",
    "    keypoints = []\n",
    "    keypointSize = 11\n",
    "    # please sample the image uniformly in a grid\n",
    "    # find the keypoint size and number of sample points\n",
    "    # as hyperparameters\n",
    "    grid_size=16\n",
    "\n",
    "    for r in range(0,h,grid_size):\n",
    "        for c in range(0,w,grid_size):\n",
    "            ## the region around each keypoint for feature extraction.\n",
    "            keypoints.append(cv2.KeyPoint(float(c),float(r),size=keypointSize))\n",
    "\n",
    "    return keypoints\n",
    "\n",
    "def prepareData(image_path,labels=None):\n",
    "    X=[]\n",
    "    y=[]\n",
    "    sift=cv2.SIFT_create()\n",
    "    for index,path in enumerate(image_path):\n",
    "        img=cv2.imread(path,cv2.IMREAD_GRAYSCALE)\n",
    "        if img is None:\n",
    "            continue\n",
    "        width,height=img.shape\n",
    "        keypoints=create_keypoints(width,height)\n",
    "        _,descriptors=sift.compute(img,keypoints)\n",
    "        if descriptors is not None:\n",
    "            X.append(descriptors.flatten())\n",
    "            if labels is not None:\n",
    "                y.append(labels[index])\n",
    "    X=np.array(X)\n",
    "    y=np.array(y) if labels is not None else None\n",
    "    return X,y\n",
    "\n",
    "# Load training images\n",
    "train_paths = glob.glob('./images/db/train/**/*.jpg', recursive=True)\n",
    "train_labels = [os.path.basename(os.path.dirname(p)) for p in train_paths]\n",
    "\n",
    "## Encde labels to integer\n",
    "label_encoder = LabelEncoder()\n",
    "y_train = label_encoder.fit_transform(train_labels)\n",
    "\n",
    "x_train,y_train=prepareData(train_paths,y_train)\n",
    "\n",
    "# Train SVM classifier with different kernels\n",
    "kernels = ['linear', 'poly', 'rbf']\n",
    "best_model=None\n",
    "best_accuracy=0\n",
    "for kernel in kernels:\n",
    "    clf=svm.SVC(kernel=kernel)\n",
    "    clf.fit(x_train,y_train)\n",
    "    ## test classifier on training sets\n",
    "    y_pred_train=clf.predict(x_train)\n",
    "    accuracy = accuracy_score(y_train, y_pred_train)\n",
    "    print(f\"Kernel: {kernel}, Training Accuracy: {accuracy}\")\n",
    "    if accuracy > best_accuracy:\n",
    "        best_accuracy = accuracy\n",
    "        best_model = clf\n",
    "\n",
    "## load amd classify test images\n",
    "test_paths=glob.glob('./images/db/test/*.jpg', recursive=True)\n",
    "# Extract test labels directly from filenames\n",
    "test_labels = [os.path.splitext(os.path.basename(p))[0] for p in test_paths]\n",
    "print(label_encoder.classes_)\n",
    "# Example label mapping\n",
    "label_mapping = {\n",
    "    'flower2': 'flowers',\n",
    "    'flower': 'flowers',\n",
    "    'face': 'faces',\n",
    "    'car': 'cars',\n",
    "}\n",
    "\n",
    "test_labels_mapped = [label_mapping.get(label, None) for label in test_labels]\n",
    "\n",
    "y_test = label_encoder.transform(test_labels_mapped)\n",
    "\n",
    "X_test, _ = prepareData(test_paths)\n",
    "\n",
    "# Predict and evaluate\n",
    "y_pred = best_model.predict(X_test)\n",
    "test_accuracy = accuracy_score(y_test, y_pred)\n",
    "print(f\"Test Accuracy: {test_accuracy}\")\n",
    "\n",
    "# Output predictions with labels\n",
    "for i, path in enumerate(test_paths):\n",
    "    print(f\"Image: {path}, Predicted Label: {label_encoder.inverse_transform([y_pred[i]])[0]}\")"
   ]
  },
  {
   "cell_type": "markdown",
   "id": "85add9d8-c9a2-4c9c-b0ae-0b5ef64c0b5d",
   "metadata": {},
   "source": [
    "## Exercise 2: Implement your own neural network from scratch "
   ]
  },
  {
   "cell_type": "code",
   "execution_count": null,
   "id": "1e1537f8-f751-47bc-9c30-0fa1a505f5dc",
   "metadata": {},
   "outputs": [],
   "source": []
  }
 ],
 "metadata": {
  "kernelspec": {
   "display_name": "Python 3 (ipykernel)",
   "language": "python",
   "name": "python3"
  },
  "language_info": {
   "codemirror_mode": {
    "name": "ipython",
    "version": 3
   },
   "file_extension": ".py",
   "mimetype": "text/x-python",
   "name": "python",
   "nbconvert_exporter": "python",
   "pygments_lexer": "ipython3",
   "version": "3.12.4"
  }
 },
 "nbformat": 4,
 "nbformat_minor": 5
}
